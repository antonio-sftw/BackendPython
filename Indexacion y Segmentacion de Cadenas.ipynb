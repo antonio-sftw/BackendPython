{
 "cells": [
  {
   "cell_type": "markdown",
   "id": "307efa0e-45ac-462d-b71f-fa03b93a696c",
   "metadata": {},
   "source": [
    "INDEXACIÓN DE CADENAS"
   ]
  },
  {
   "cell_type": "code",
   "execution_count": 2,
   "id": "d41bda4f-b214-43cb-9513-e0a411c2c3a5",
   "metadata": {},
   "outputs": [],
   "source": [
    "# Utilizar el indice (posision) para acceder y extraer un elemento de una estrutura de datos"
   ]
  },
  {
   "cell_type": "markdown",
   "id": "784d03cf-5729-4cb5-a331-076e0a13af25",
   "metadata": {},
   "source": [
    "SEGMENTACIÓN DE CADENAS"
   ]
  },
  {
   "cell_type": "code",
   "execution_count": 13,
   "id": "179db39a-f49a-409d-aabb-036a5df9554b",
   "metadata": {},
   "outputs": [
    {
     "name": "stdout",
     "output_type": "stream",
     "text": [
      "B\n",
      "end \n"
     ]
    }
   ],
   "source": [
    "# Indices positivos\n",
    "string = \"Backend Python\"\n",
    "print(string[0])\n",
    "print(string[4:8])"
   ]
  },
  {
   "cell_type": "code",
   "execution_count": 25,
   "id": "a76d1010-68d1-47b2-a048-08eca795f01e",
   "metadata": {},
   "outputs": [
    {
     "name": "stdout",
     "output_type": "stream",
     "text": [
      "n\n",
      "thon\n"
     ]
    }
   ],
   "source": [
    "# Indices negativos\n",
    "string = \"Backend Python\"\n",
    "print(string[-1])\n",
    "print(string[-4:])"
   ]
  },
  {
   "cell_type": "code",
   "execution_count": 33,
   "id": "e67fbfb7-ddc3-48d0-8763-45bb046e76b8",
   "metadata": {},
   "outputs": [
    {
     "name": "stdout",
     "output_type": "stream",
     "text": [
      "Hola Python\n",
      "Hola Backend Python\n"
     ]
    }
   ],
   "source": [
    "# Concatenacion\n",
    "string = \"Hola\"\n",
    "string2 = \"Python\"\n",
    "print(string + \" \" + string2)\n",
    "print(\"{} Backend {}\".format(string, string2)) # Forma más correcta"
   ]
  },
  {
   "cell_type": "code",
   "execution_count": 51,
   "id": "afaa3cd2-6bf9-4479-9de1-3ca1d5ff2064",
   "metadata": {},
   "outputs": [
    {
     "name": "stdout",
     "output_type": "stream",
     "text": [
      "1020\n",
      "1020\n",
      "30\n"
     ]
    }
   ],
   "source": [
    "# Con números\n",
    "var = '10'\n",
    "var2 = '20'\n",
    "print(var + var2)\n",
    "print(eval(var + var2))\n",
    "print(eval(\"{}+{}\".format(var, var2)))"
   ]
  },
  {
   "cell_type": "code",
   "execution_count": 57,
   "id": "2f12248b-07b1-4930-935b-71ba02a24550",
   "metadata": {},
   "outputs": [
    {
     "name": "stdout",
     "output_type": "stream",
     "text": [
      "Hola\n",
      "Hola\n",
      "Hola\n",
      "\n"
     ]
    }
   ],
   "source": [
    "# Multiplicacion de cadenas\n",
    "string3 = \"Hola\\n\"\n",
    "print(string3 * 3) # Solo con numero int positivos"
   ]
  },
  {
   "cell_type": "code",
   "execution_count": 59,
   "id": "bacbbe7c-5e45-451d-80a0-4f0d4aab75be",
   "metadata": {},
   "outputs": [
    {
     "name": "stdout",
     "output_type": "stream",
     "text": [
      "True\n"
     ]
    }
   ],
   "source": [
    "# Comparación de cadenas\n",
    "string = \"Hola\"\n",
    "string2 = \"Python\"\n",
    "print(string != string2)"
   ]
  },
  {
   "cell_type": "markdown",
   "id": "a4a8a49c-6440-408c-a949-924b7f00f17d",
   "metadata": {},
   "source": [
    "FUNCIONES DE CADENAS"
   ]
  },
  {
   "cell_type": "code",
   "execution_count": 78,
   "id": "f479db77-3915-4482-8798-f5c7f9a4e1ec",
   "metadata": {},
   "outputs": [
    {
     "name": "stdout",
     "output_type": "stream",
     "text": [
      "['Backend', 'Python']\n"
     ]
    }
   ],
   "source": [
    "# Split\n",
    "# Divide la cadena basandose en el separador especifico\n",
    "string = \"Backend-Python\"\n",
    "print(string.split(\"-\"))"
   ]
  },
  {
   "cell_type": "code",
   "execution_count": 86,
   "id": "0be05a71-02e1-41c1-b51b-26f4782442aa",
   "metadata": {},
   "outputs": [
    {
     "name": "stdout",
     "output_type": "stream",
     "text": [
      "correo\n"
     ]
    }
   ],
   "source": [
    "correo = \"correo@correo.com\"\n",
    "username, domain = correo.split(\"@\")\n",
    "print(username)"
   ]
  },
  {
   "cell_type": "code",
   "execution_count": 94,
   "id": "56375550-e5e0-4e10-9a66-68527b19f02d",
   "metadata": {},
   "outputs": [
    {
     "name": "stdout",
     "output_type": "stream",
     "text": [
      "['Hola', 'Adios']\n",
      "['Texto largo', 'Largo', 'Texto']\n",
      "['Error', '404']\n"
     ]
    }
   ],
   "source": [
    "texto = \"\"\"Hola|Adios\n",
    "Texto largo|Largo|Texto\n",
    "Error|404\"\"\"\n",
    "\n",
    "renglones = texto.split(\"\\n\")\n",
    "for renglon in renglones:\n",
    "    print(renglon.split(\"|\"))"
   ]
  },
  {
   "cell_type": "code",
   "execution_count": 96,
   "id": "0e7e0736-e729-417c-adad-3fcb02f67467",
   "metadata": {},
   "outputs": [
    {
     "name": "stdout",
     "output_type": "stream",
     "text": [
      "13\n",
      "23\n"
     ]
    }
   ],
   "source": [
    "# Index y Find\n",
    "# Busca la primera posición de la subcadena solicitada en la cadena\n",
    "texto = \"Hola Backend Python en EBAC\"\n",
    "print(texto.index(\"Python\"))\n",
    "print(texto.index(\"EBAC\"))"
   ]
  },
  {
   "cell_type": "code",
   "execution_count": 225,
   "id": "34dec7d4-c68c-42a9-916d-d7768b133475",
   "metadata": {},
   "outputs": [
    {
     "name": "stdout",
     "output_type": "stream",
     "text": [
      "2\n",
      "1\n"
     ]
    }
   ],
   "source": [
    "# Count\n",
    "# Cuenta las apariciones de la subcadena solicitada en la cadena\n",
    "texto = \"Hola Backend Python en EBAC\"\n",
    "print(texto.count(\"B\"))\n",
    "print(texto.count(\"Hola\"))"
   ]
  },
  {
   "cell_type": "code",
   "execution_count": 110,
   "id": "5f8716fb-4c0c-4c7a-a5b9-124fb9eb7ee3",
   "metadata": {},
   "outputs": [
    {
     "name": "stdout",
     "output_type": "stream",
     "text": [
      "27\n"
     ]
    }
   ],
   "source": [
    "# Len\n",
    "# Cuenta la longitud de caracteres de una cadena\n",
    "texto = \"Hola Backend Python en EBAC\"\n",
    "print(len(texto))"
   ]
  },
  {
   "cell_type": "code",
   "execution_count": 136,
   "id": "549eaae8-7059-4da3-852b-317094951e56",
   "metadata": {},
   "outputs": [
    {
     "name": "stdout",
     "output_type": "stream",
     "text": [
      "            Hola Backend Python en EBAC                    \n",
      "Hola Backend Python en EBAC\n",
      "Hola Backend Python en EBA\n"
     ]
    }
   ],
   "source": [
    "# Stip\n",
    "# Remuve todo lo que se considere espacios \\n \\t o un caracter especifico al final de la cadena\n",
    "texto = \"            Hola Backend Python en EBAC                    \"\n",
    "print(texto)\n",
    "print(texto.strip())\n",
    "\n",
    "texto2 = \"Hola Backend Python en EBAC\"\n",
    "print(texto2.strip(\"C\"))"
   ]
  },
  {
   "cell_type": "code",
   "execution_count": 182,
   "id": "b42585c3-e05c-4f29-809c-b0dec5da0bbc",
   "metadata": {},
   "outputs": [
    {
     "name": "stdout",
     "output_type": "stream",
     "text": [
      "True\n"
     ]
    }
   ],
   "source": [
    "# Is Numeric Decimal Digit Alum\n",
    "string = \"1234567890\"\n",
    "print(string.isnumeric())"
   ]
  },
  {
   "cell_type": "code",
   "execution_count": 148,
   "id": "944ee03e-e3bc-4285-99f5-682a6db167ee",
   "metadata": {},
   "outputs": [
    {
     "name": "stdout",
     "output_type": "stream",
     "text": [
      "True\n"
     ]
    }
   ],
   "source": [
    "string = \"1234567890ABCDEFG\"\n",
    "print(string.isalnum()) #Alfanumerico"
   ]
  },
  {
   "cell_type": "code",
   "execution_count": 180,
   "id": "2d67c3cd-09c6-4a54-b36a-e36a23f7ffec",
   "metadata": {},
   "outputs": [
    {
     "name": "stdout",
     "output_type": "stream",
     "text": [
      "False\n"
     ]
    }
   ],
   "source": [
    "# Is Upper Lower\n",
    "string = \"PYTHON\"\n",
    "print(string.islower())"
   ]
  },
  {
   "cell_type": "code",
   "execution_count": 162,
   "id": "8a9d3f46-2431-4ef8-8107-a0081dfe7bbc",
   "metadata": {},
   "outputs": [
    {
     "name": "stdout",
     "output_type": "stream",
     "text": [
      "1|2|3|4|5\n"
     ]
    }
   ],
   "source": [
    "# Join\n",
    "# Crea una cadena a partir de una lista usando el caracter especificado\n",
    "lista = [\"1\", \"2\", \"3\", \"4\", \"5\"]\n",
    "separador = \"|\"\n",
    "print(separador.join(lista))"
   ]
  },
  {
   "cell_type": "code",
   "execution_count": 164,
   "id": "95a1940a-270d-4949-8791-0e8779060d44",
   "metadata": {},
   "outputs": [
    {
     "name": "stdout",
     "output_type": "stream",
     "text": [
      "Hola\n"
     ]
    }
   ],
   "source": [
    "# Capitalize\n",
    "# Hace mayuscula la primer letra\n",
    "string = \"hola\"\n",
    "print(string.capitalize())"
   ]
  },
  {
   "cell_type": "code",
   "execution_count": 170,
   "id": "c710bc11-8b33-4d68-8aa3-4e56904c99e0",
   "metadata": {},
   "outputs": [
    {
     "name": "stdout",
     "output_type": "stream",
     "text": [
      "El número es 7\n"
     ]
    }
   ],
   "source": [
    "# Format\n",
    "# Forma correcta de concatenar con variables\n",
    "x = 7\n",
    "print(\"El número es {}\".format(x))"
   ]
  },
  {
   "cell_type": "code",
   "execution_count": 176,
   "id": "65ed7d54-aa32-4008-9b36-4e3315bab9af",
   "metadata": {},
   "outputs": [
    {
     "name": "stdout",
     "output_type": "stream",
     "text": [
      "El número es 44 y la letra es G\n"
     ]
    }
   ],
   "source": [
    "string = \"El número es {} y la letra es {}\"\n",
    "print(string.format(44, \"G\"))"
   ]
  },
  {
   "cell_type": "code",
   "execution_count": 178,
   "id": "b6a2f6b2-1a44-4551-b10d-eae66006b33c",
   "metadata": {},
   "outputs": [
    {
     "name": "stdout",
     "output_type": "stream",
     "text": [
      "El número es 33 y la letra es G y el caracter es 33\n"
     ]
    }
   ],
   "source": [
    "# Trabaja con indices para definir el orden\n",
    "string = \"El número es {2} y la letra es {0} y el caracter es {2}\"\n",
    "print(string.format(\"G\", \"%\", 33))"
   ]
  },
  {
   "cell_type": "code",
   "execution_count": 184,
   "id": "4d88e749-0e38-4cb7-9d3b-fa41ea9483cd",
   "metadata": {},
   "outputs": [
    {
     "name": "stdout",
     "output_type": "stream",
     "text": [
      "            PYTHON            \n"
     ]
    }
   ],
   "source": [
    "# Center\n",
    "# Centra la cadena dada cierta longitud\n",
    "string = \"PYTHON\"\n",
    "print(string.center(30))"
   ]
  },
  {
   "cell_type": "code",
   "execution_count": 190,
   "id": "b83aaf4c-03cc-4841-84e8-79c8100cc42f",
   "metadata": {},
   "outputs": [
    {
     "name": "stdout",
     "output_type": "stream",
     "text": [
      "True\n"
     ]
    }
   ],
   "source": [
    "# Endswith\n",
    "# Evalua si una cadena termina con un caracter o subcadena especifica\n",
    "string = \"PYTHON\"\n",
    "print(string.endswith(\"ON\"))"
   ]
  },
  {
   "cell_type": "code",
   "execution_count": 192,
   "id": "08108df9-1fcc-457a-ae8a-b32ef1ff5761",
   "metadata": {},
   "outputs": [
    {
     "name": "stdout",
     "output_type": "stream",
     "text": [
      "python BACKEND\n"
     ]
    }
   ],
   "source": [
    "# Swapcase\n",
    "# Invierte mayusculas y minusculas\n",
    "string = \"PYTHON backend\"\n",
    "print(string.swapcase())"
   ]
  },
  {
   "cell_type": "code",
   "execution_count": 204,
   "id": "f5928476-2706-4da3-b69c-cf1577a2233d",
   "metadata": {},
   "outputs": [
    {
     "name": "stdout",
     "output_type": "stream",
     "text": [
      "Backend Python en EBAC\n"
     ]
    }
   ],
   "source": [
    "# Replace\n",
    "# Reemplaza una subcadena o caracter por otra dento de una cadena\n",
    "string = \"Backend PHP en EBAC\"\n",
    "print(string.replace(\"PHP\", \"Python\"))"
   ]
  },
  {
   "cell_type": "code",
   "execution_count": 221,
   "id": "15bad711-ad3f-4d19-a0da-e0259427d7e7",
   "metadata": {},
   "outputs": [
    {
     "name": "stdout",
     "output_type": "stream",
     "text": [
      "dnekcab NOHTYP\n"
     ]
    }
   ],
   "source": [
    "# Invertir una cadena\n",
    "string = \"PYTHON backend\"\n",
    "print(string [::-1])"
   ]
  },
  {
   "cell_type": "markdown",
   "id": "5588b648-dd7a-441f-b43b-533018eda213",
   "metadata": {},
   "source": [
    "FORMATEO DE CADENAS Y DATETIME"
   ]
  },
  {
   "cell_type": "code",
   "execution_count": 213,
   "id": "7925b419-5037-4800-bb92-cac38567fcb2",
   "metadata": {},
   "outputs": [
    {
     "name": "stdout",
     "output_type": "stream",
     "text": [
      "2024-12-20 23:15:50.112194\n"
     ]
    }
   ],
   "source": [
    "from datetime import datetime\n",
    "now = datetime.now()\n",
    "print(now)"
   ]
  },
  {
   "cell_type": "code",
   "execution_count": 219,
   "id": "fd202c92-7873-428e-b6d2-f9e5100287de",
   "metadata": {},
   "outputs": [
    {
     "name": "stdout",
     "output_type": "stream",
     "text": [
      "2024\n",
      "23:15:50\n"
     ]
    }
   ],
   "source": [
    "year = now.strftime(\"%Y\")\n",
    "month = now.strftime(\"%m\")\n",
    "day = now.strftime(\"%d\")\n",
    "time = now.strftime(\"%H:%M:%S\")\n",
    "print(year)\n",
    "print(time)"
   ]
  }
 ],
 "metadata": {
  "kernelspec": {
   "display_name": "Python [conda env:base] *",
   "language": "python",
   "name": "conda-base-py"
  },
  "language_info": {
   "codemirror_mode": {
    "name": "ipython",
    "version": 3
   },
   "file_extension": ".py",
   "mimetype": "text/x-python",
   "name": "python",
   "nbconvert_exporter": "python",
   "pygments_lexer": "ipython3",
   "version": "3.12.7"
  }
 },
 "nbformat": 4,
 "nbformat_minor": 5
}
