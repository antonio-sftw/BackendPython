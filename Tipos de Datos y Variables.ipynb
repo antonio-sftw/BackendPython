{
 "cells": [
  {
   "cell_type": "code",
   "execution_count": 1,
   "id": "9f1ab737-4a68-4c2c-9f17-ce75e220caa1",
   "metadata": {},
   "outputs": [],
   "source": [
    "# integer\n",
    "numero = 10"
   ]
  },
  {
   "cell_type": "code",
   "execution_count": 11,
   "id": "62a464b4-1d36-4c19-a324-5af126486d06",
   "metadata": {
    "panel-layout": {
     "height": 0,
     "visible": true,
     "width": 100
    }
   },
   "outputs": [
    {
     "name": "stdout",
     "output_type": "stream",
     "text": [
      "2000.0\n"
     ]
    }
   ],
   "source": [
    "# float (soporta notación científica)\n",
    "n = 2e3 # 2.0 * 10 ** 3\n",
    "print(n)"
   ]
  },
  {
   "cell_type": "code",
   "execution_count": 15,
   "id": "1bdde791-3b8b-4f6d-b05a-89c8ebc4fbbf",
   "metadata": {
    "panel-layout": {
     "height": 0,
     "visible": true,
     "width": 100
    }
   },
   "outputs": [
    {
     "name": "stdout",
     "output_type": "stream",
     "text": [
      "(3+9j)\n",
      "<class 'complex'>\n"
     ]
    }
   ],
   "source": [
    "# complex (parte real y parte imaginaria) x + yj\n",
    "# x parte real\n",
    "# yj parte imaginaria\n",
    "c = 3 + 9j\n",
    "print(c)\n",
    "print(type(c))"
   ]
  },
  {
   "cell_type": "code",
   "execution_count": 17,
   "id": "014e4f68-9dc0-40c4-bf7f-04e4d666f1cd",
   "metadata": {},
   "outputs": [],
   "source": [
    "# boolean\n",
    "boolean = True"
   ]
  },
  {
   "cell_type": "code",
   "execution_count": 19,
   "id": "d7d22b93-1719-4242-a746-9c670f96b40a",
   "metadata": {},
   "outputs": [],
   "source": [
    "# strings\n",
    "cadena = \"Hola\""
   ]
  },
  {
   "cell_type": "code",
   "execution_count": 73,
   "id": "a722f9a4-b0f5-40bc-869f-998374d6bd55",
   "metadata": {},
   "outputs": [],
   "source": [
    "# VARIABLES GLOBALES Se declaran fuera de funciones\n",
    "# pueden ser constantes cualquier función puede acceder a ellas\n",
    "variableGlobal = 10\n",
    "\n",
    "# Recibe un parametro, se inicializa en caso de no recibirlo en 1\n",
    "def multip(n = 1):\n",
    "    # VARIABLES LOCALES solo funcionan dentro de su funcion, bucle, condicional, etc.\n",
    "    variableLocal = 23\n",
    "    print(variableLocal * n)\n",
    "    pass\n",
    "def div():\n",
    "    variableLocal = 2\n",
    "    print(variableGlobal / variableLocal)\n",
    "    pass"
   ]
  },
  {
   "cell_type": "code",
   "execution_count": 75,
   "id": "78692b82-142c-4bff-ac77-311b02c7cbd8",
   "metadata": {
    "panel-layout": {
     "height": 0,
     "visible": true,
     "width": 100
    }
   },
   "outputs": [
    {
     "name": "stdout",
     "output_type": "stream",
     "text": [
      "230\n"
     ]
    }
   ],
   "source": [
    "multip(10)"
   ]
  },
  {
   "cell_type": "code",
   "execution_count": 77,
   "id": "b4264dea-270b-4d6d-a9f9-66777bf11641",
   "metadata": {
    "panel-layout": {
     "height": 0,
     "visible": true,
     "width": 100
    }
   },
   "outputs": [
    {
     "name": "stdout",
     "output_type": "stream",
     "text": [
      "5.0\n"
     ]
    }
   ],
   "source": [
    "div()"
   ]
  },
  {
   "cell_type": "code",
   "execution_count": 87,
   "id": "06628fd9-0bae-4a75-ad8d-98f2fd5479c8",
   "metadata": {},
   "outputs": [],
   "source": [
    "# Palabra reservada Global\n",
    "def g():\n",
    "    global var # vuelve a la variable global sin importar donde se declare\n",
    "    var = 20\n",
    "    print(var)\n",
    "def h():\n",
    "    print(\"Se imprime el valor: \", var)"
   ]
  },
  {
   "cell_type": "code",
   "execution_count": 81,
   "id": "7cce1ade-820c-4c1b-8095-9f8495a31d99",
   "metadata": {
    "panel-layout": {
     "height": 0,
     "visible": true,
     "width": 100
    }
   },
   "outputs": [
    {
     "name": "stdout",
     "output_type": "stream",
     "text": [
      "20\n"
     ]
    }
   ],
   "source": [
    "g()"
   ]
  },
  {
   "cell_type": "code",
   "execution_count": 83,
   "id": "a2a5bbd6-d6c6-495d-bbc1-376f2462b80b",
   "metadata": {
    "panel-layout": {
     "height": 0,
     "visible": true,
     "width": 100
    }
   },
   "outputs": [
    {
     "name": "stdout",
     "output_type": "stream",
     "text": [
      "Se imprime el valor:  20\n"
     ]
    }
   ],
   "source": [
    "h()"
   ]
  },
  {
   "cell_type": "markdown",
   "id": "7fd7b70b-9b30-4275-b5f6-3d9b4726d772",
   "metadata": {
    "panel-layout": {
     "height": 51.140625,
     "visible": true,
     "width": 100
    }
   },
   "source": [
    "DECIMAL, BINARIO, OCTAL Y HEXADECIMAL"
   ]
  },
  {
   "cell_type": "code",
   "execution_count": 90,
   "id": "afab245e-57b7-4b89-89ac-0ee488a2b5f2",
   "metadata": {},
   "outputs": [],
   "source": [
    "decimal = 55"
   ]
  },
  {
   "cell_type": "code",
   "execution_count": 111,
   "id": "e7b9e0ab-3c88-4222-8f8e-c35597c25dbc",
   "metadata": {},
   "outputs": [
    {
     "name": "stdout",
     "output_type": "stream",
     "text": [
      "25\n"
     ]
    }
   ],
   "source": [
    "# Valor base 2, se usa el prefijo \"0b\"\n",
    "# Solamente acepta 1 y 0\n",
    "binario = 0b11001\n",
    "print(binario)"
   ]
  },
  {
   "cell_type": "code",
   "execution_count": 113,
   "id": "98aa5ed5-705f-4d87-b592-aeda2efc1713",
   "metadata": {},
   "outputs": [
    {
     "name": "stdout",
     "output_type": "stream",
     "text": [
      "4609\n"
     ]
    }
   ],
   "source": [
    "# Valor base 8, se usa el prefijo \"0o\"\n",
    "# Solamente acepta digitos del 0 al 7\n",
    "octal = 0o11001\n",
    "print(octal)"
   ]
  },
  {
   "cell_type": "code",
   "execution_count": 119,
   "id": "4e74ba66-b4b8-4af7-9d2b-8d2474d28f05",
   "metadata": {},
   "outputs": [
    {
     "name": "stdout",
     "output_type": "stream",
     "text": [
      "159\n"
     ]
    }
   ],
   "source": [
    "# Valor base 16, se usa el prefijo \"0h\"\n",
    "# Acepta digitos del 0 al 9 y letras de la A a la F\n",
    "hexa = 0x9F\n",
    "print(hexa)"
   ]
  }
 ],
 "metadata": {
  "kernelspec": {
   "display_name": "Python [conda env:base] *",
   "language": "python",
   "name": "conda-base-py"
  },
  "language_info": {
   "codemirror_mode": {
    "name": "ipython",
    "version": 3
   },
   "file_extension": ".py",
   "mimetype": "text/x-python",
   "name": "python",
   "nbconvert_exporter": "python",
   "pygments_lexer": "ipython3",
   "version": "3.12.7"
  },
  "panel-cell-order": [
   "62a464b4-1d36-4c19-a324-5af126486d06",
   "1bdde791-3b8b-4f6d-b05a-89c8ebc4fbbf",
   "78692b82-142c-4bff-ac77-311b02c7cbd8",
   "b4264dea-270b-4d6d-a9f9-66777bf11641",
   "7cce1ade-820c-4c1b-8095-9f8495a31d99",
   "a2a5bbd6-d6c6-495d-bbc1-376f2462b80b",
   "7fd7b70b-9b30-4275-b5f6-3d9b4726d772"
  ]
 },
 "nbformat": 4,
 "nbformat_minor": 5
}
