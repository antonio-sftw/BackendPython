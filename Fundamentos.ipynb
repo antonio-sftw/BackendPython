{
 "cells": [
  {
   "cell_type": "code",
   "execution_count": 9,
   "id": "a0d5e4b5-e799-4857-8f6a-f720cf3ec555",
   "metadata": {},
   "outputs": [
    {
     "name": "stdout",
     "output_type": "stream",
     "text": [
      "El curso es Backend Python\n"
     ]
    }
   ],
   "source": [
    "# Python es Case Sensitive\n",
    "A = \"Backend Python\"\n",
    "a = \"El curso es \"\n",
    "print(a + A)"
   ]
  },
  {
   "cell_type": "code",
   "execution_count": 11,
   "id": "3f196058-06ed-4c33-932a-4dac5f546d61",
   "metadata": {},
   "outputs": [
    {
     "name": "stdout",
     "output_type": "stream",
     "text": [
      "\n",
      "Here is a list of the Python keywords.  Enter any keyword to get more help.\n",
      "\n",
      "False               class               from                or\n",
      "None                continue            global              pass\n",
      "True                def                 if                  raise\n",
      "and                 del                 import              return\n",
      "as                  elif                in                  try\n",
      "assert              else                is                  while\n",
      "async               except              lambda              with\n",
      "await               finally             nonlocal            yield\n",
      "break               for                 not                 \n",
      "\n"
     ]
    }
   ],
   "source": [
    "# Palabras reservadas\n",
    "help(\"keywords\")"
   ]
  },
  {
   "cell_type": "code",
   "execution_count": 55,
   "id": "f91bd5c9-1ecb-4df0-bb92-1f7b543d4ae0",
   "metadata": {},
   "outputs": [
    {
     "data": {
      "text/plain": [
       "'\\t'"
      ]
     },
     "execution_count": 55,
     "metadata": {},
     "output_type": "execute_result"
    }
   ],
   "source": [
    "# Caracteres de escape\n",
    "\"\\'\" # Comilla sencilla\n",
    "'\\\"' # Comilla doble\n",
    "\"\\n\" # Salto de linea\n",
    "\"\\t\" # Tab\n",
    "\"\\r\" # Carriage return - ignora lo que estaba adelante de donde se coloque\n",
    "\"\\b\" # Retorno - elimina el caracter antes de donde se coloque\n",
    "\"\\###\" # Octal\n",
    "\"\\x##\" # Hexadecimal"
   ]
  },
  {
   "cell_type": "code",
   "execution_count": 59,
   "id": "6b51d092-59d3-4a6e-a5dd-b627307d158a",
   "metadata": {},
   "outputs": [
    {
     "name": "stdout",
     "output_type": "stream",
     "text": [
      "Salt de línea \n",
      " Hola \n",
      " Hola\n"
     ]
    }
   ],
   "source": [
    "a = \"Salto\\b de línea \\n \\110\\157\\154\\141 \\n \\x48\\x6f\\x6c\\x61\"\n",
    "print(a)"
   ]
  },
  {
   "cell_type": "markdown",
   "id": "b0281f48-3522-44f4-b973-659902ead032",
   "metadata": {},
   "source": [
    "FUNCIONES MATEMÁTICAS"
   ]
  },
  {
   "cell_type": "code",
   "execution_count": 100,
   "id": "f9abf9dd-c449-4559-8a2b-f7b254209421",
   "metadata": {},
   "outputs": [
    {
     "name": "stdout",
     "output_type": "stream",
     "text": [
      "1022\n"
     ]
    }
   ],
   "source": [
    "# Eval revisa por tipo de dato\n",
    "number = 22\n",
    "print(eval(\"number + 1000\"))"
   ]
  },
  {
   "cell_type": "code",
   "execution_count": 5,
   "id": "e743987e-b383-421b-8f9d-209f77fc8d22",
   "metadata": {},
   "outputs": [
    {
     "name": "stdin",
     "output_type": "stream",
     "text": [
      "Ingresa una número:  45\n"
     ]
    },
    {
     "data": {
      "text/plain": [
       "45"
      ]
     },
     "execution_count": 5,
     "metadata": {},
     "output_type": "execute_result"
    }
   ],
   "source": [
    "entrada = input(\"Ingresa una número: \")\n",
    "entrada # Lo toma como string\n",
    "eval(entrada) # Lo toma como int"
   ]
  },
  {
   "cell_type": "code",
   "execution_count": 9,
   "id": "5167e452-88e5-42ce-9d6d-b5b677c4e4ca",
   "metadata": {},
   "outputs": [
    {
     "name": "stdout",
     "output_type": "stream",
     "text": [
      "<class 'str'>\n"
     ]
    }
   ],
   "source": [
    "print(type(entrada)) # Type devuelve el tipo de dato"
   ]
  },
  {
   "cell_type": "code",
   "execution_count": 98,
   "id": "9f7e2d8f-aa99-44b5-9bc1-bfd97a15eae6",
   "metadata": {},
   "outputs": [
    {
     "data": {
      "text/plain": [
       "range(0, 10)"
      ]
     },
     "execution_count": 98,
     "metadata": {},
     "output_type": "execute_result"
    }
   ],
   "source": [
    "# Range crea un rango, tiene 3 parametros\n",
    "# range(start, stop, step)\n",
    "\n",
    "x = range(10)\n",
    "x"
   ]
  },
  {
   "cell_type": "code",
   "execution_count": 95,
   "id": "de2c0f1c-a0f4-4dcd-836b-94df6061c784",
   "metadata": {},
   "outputs": [
    {
     "name": "stdout",
     "output_type": "stream",
     "text": [
      "0\n",
      "1\n",
      "2\n",
      "3\n",
      "4\n",
      "5\n",
      "6\n",
      "7\n",
      "8\n",
      "9\n"
     ]
    }
   ],
   "source": [
    "for number in x:\n",
    "    print(number)"
   ]
  },
  {
   "cell_type": "code",
   "execution_count": 124,
   "id": "9ae2d86a-8eb9-4191-8e22-23b4147b75b6",
   "metadata": {},
   "outputs": [
    {
     "name": "stdout",
     "output_type": "stream",
     "text": [
      "3\n",
      "4\n",
      "5\n",
      "6\n"
     ]
    }
   ],
   "source": [
    "y = range(3, 7)\n",
    "for number in y:\n",
    "    print(number)"
   ]
  },
  {
   "cell_type": "code",
   "execution_count": 122,
   "id": "ea548fcc-a894-40dc-87af-ec6ccef74548",
   "metadata": {},
   "outputs": [
    {
     "name": "stdout",
     "output_type": "stream",
     "text": [
      "3\n",
      "5\n",
      "7\n",
      "9\n"
     ]
    }
   ],
   "source": [
    "z = range(3, 10, 2)\n",
    "for number in z:\n",
    "    print(number)"
   ]
  },
  {
   "cell_type": "markdown",
   "id": "2a9ff39b-6f8f-483b-a35f-798d5f0524fe",
   "metadata": {},
   "source": [
    "MUTABILIDAD E INMUTABILIDAD EN ESTRUCTURAS DE DATOS"
   ]
  },
  {
   "cell_type": "code",
   "execution_count": 137,
   "id": "a4dbe44a-e2a8-4097-9169-09ed3dc18143",
   "metadata": {},
   "outputs": [
    {
     "ename": "TypeError",
     "evalue": "'tuple' object does not support item assignment",
     "output_type": "error",
     "traceback": [
      "\u001b[1;31m---------------------------------------------------------------------------\u001b[0m",
      "\u001b[1;31mTypeError\u001b[0m                                 Traceback (most recent call last)",
      "Cell \u001b[1;32mIn[137], line 3\u001b[0m\n\u001b[0;32m      1\u001b[0m \u001b[38;5;66;03m# Las tuplas () son inmutables\u001b[39;00m\n\u001b[0;32m      2\u001b[0m tupla \u001b[38;5;241m=\u001b[39m (\u001b[38;5;241m1\u001b[39m, \u001b[38;5;241m2\u001b[39m, \u001b[38;5;241m3\u001b[39m, \u001b[38;5;241m4\u001b[39m, \u001b[38;5;241m5\u001b[39m)\n\u001b[1;32m----> 3\u001b[0m tupla[\u001b[38;5;241m0\u001b[39m] \u001b[38;5;241m=\u001b[39m \u001b[38;5;241m6\u001b[39m\n",
      "\u001b[1;31mTypeError\u001b[0m: 'tuple' object does not support item assignment"
     ]
    }
   ],
   "source": [
    "# Las tuplas () son inmutables\n",
    "tupla = (1, 2, 3, 4, 5)\n",
    "tupla[0] = 6"
   ]
  },
  {
   "cell_type": "code",
   "execution_count": 135,
   "id": "0cdef5d1-c994-4284-b34d-4cff9406934a",
   "metadata": {},
   "outputs": [
    {
     "data": {
      "text/plain": [
       "[6, 2, 3, 4, 5]"
      ]
     },
     "execution_count": 135,
     "metadata": {},
     "output_type": "execute_result"
    }
   ],
   "source": [
    "# Las listas [arrays] no lo son\n",
    "lista = [1, 2, 3, 4, 5]\n",
    "lista[0] = 6\n",
    "lista"
   ]
  },
  {
   "cell_type": "code",
   "execution_count": 15,
   "id": "2d9bde62-875d-4ec7-b024-5ab08c9252a6",
   "metadata": {},
   "outputs": [
    {
     "ename": "TypeError",
     "evalue": "'set' object does not support item assignment",
     "output_type": "error",
     "traceback": [
      "\u001b[1;31m---------------------------------------------------------------------------\u001b[0m",
      "\u001b[1;31mTypeError\u001b[0m                                 Traceback (most recent call last)",
      "Cell \u001b[1;32mIn[15], line 3\u001b[0m\n\u001b[0;32m      1\u001b[0m \u001b[38;5;66;03m# Los sets {objetos}\u001b[39;00m\n\u001b[0;32m      2\u001b[0m myset \u001b[38;5;241m=\u001b[39m {\u001b[38;5;241m1\u001b[39m, \u001b[38;5;241m2.0\u001b[39m, \u001b[38;5;124m\"\u001b[39m\u001b[38;5;124mTres\u001b[39m\u001b[38;5;124m\"\u001b[39m, \u001b[38;5;28;01mFalse\u001b[39;00m}\n\u001b[1;32m----> 3\u001b[0m myset[\u001b[38;5;241m0\u001b[39m] \u001b[38;5;241m=\u001b[39m \u001b[38;5;28;01mTrue\u001b[39;00m\n\u001b[0;32m      4\u001b[0m myset\n",
      "\u001b[1;31mTypeError\u001b[0m: 'set' object does not support item assignment"
     ]
    }
   ],
   "source": [
    "# Los sets {objetos} son inmutables\n",
    "myset = {1, 2.0, \"Tres\", False}\n",
    "myset[0] = True\n",
    "myset"
   ]
  },
  {
   "cell_type": "code",
   "execution_count": 23,
   "id": "6464c879-e893-41e3-8586-9e75e3c7c2ce",
   "metadata": {},
   "outputs": [
    {
     "data": {
      "text/plain": [
       "{'a': True, 'b': 2.0, 'c': 'Tres', 'd': False}"
      ]
     },
     "execution_count": 23,
     "metadata": {},
     "output_type": "execute_result"
    }
   ],
   "source": [
    "# Los diccionarios {arrays asociativos llave-valor} no lo son\n",
    "diccionario = {\"a\":1, \"b\":2.0, \"c\":\"Tres\", \"d\":False}\n",
    "diccionario[\"a\"] = True\n",
    "diccionario"
   ]
  },
  {
   "cell_type": "markdown",
   "id": "931c48cd-7c0a-4d14-aa7c-4755fd9138f7",
   "metadata": {},
   "source": [
    "FUNCION ID"
   ]
  },
  {
   "cell_type": "code",
   "execution_count": 29,
   "id": "497688ba-0e4c-4efd-91b3-e3c38805c568",
   "metadata": {},
   "outputs": [
    {
     "name": "stdout",
     "output_type": "stream",
     "text": [
      "22\n",
      "<class 'int'>\n",
      "140715103824984\n"
     ]
    }
   ],
   "source": [
    "# Obtener la dirección de memoria\n",
    "number = 22\n",
    "print(number)\n",
    "print(type(number))\n",
    "print(id(number))"
   ]
  },
  {
   "cell_type": "markdown",
   "id": "ca122e6c-8f2a-4e2d-99f1-62791a9788ea",
   "metadata": {},
   "source": [
    "MULTIPLES VALORES DE ENTRADA"
   ]
  },
  {
   "cell_type": "code",
   "execution_count": 38,
   "id": "900ef9ab-436c-4376-93be-9d087aff5718",
   "metadata": {},
   "outputs": [
    {
     "name": "stdin",
     "output_type": "stream",
     "text": [
      "Ingresa los valores:  23 45 21\n"
     ]
    },
    {
     "name": "stdout",
     "output_type": "stream",
     "text": [
      "El valor 1 es:  23 , el valor 2 es:  45  y el valor 3 es:  21\n"
     ]
    }
   ],
   "source": [
    "# Split separa elementos de una cadena, su parametro es el caracter a buscar (espacio, coma, guión)\n",
    "a, b, c = input(\"Ingresa los valores: \").split()\n",
    "print(\"El valor 1 es: \", a,\", el valor 2 es: \", b,\" y el valor 3 es: \", c)"
   ]
  }
 ],
 "metadata": {
  "kernelspec": {
   "display_name": "Python [conda env:base] *",
   "language": "python",
   "name": "conda-base-py"
  },
  "language_info": {
   "codemirror_mode": {
    "name": "ipython",
    "version": 3
   },
   "file_extension": ".py",
   "mimetype": "text/x-python",
   "name": "python",
   "nbconvert_exporter": "python",
   "pygments_lexer": "ipython3",
   "version": "3.12.7"
  }
 },
 "nbformat": 4,
 "nbformat_minor": 5
}
