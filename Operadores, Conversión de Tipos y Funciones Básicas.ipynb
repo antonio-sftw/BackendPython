{
 "cells": [
  {
   "cell_type": "markdown",
   "id": "1092fa7c-07d4-45c8-a27c-6dccff099ee1",
   "metadata": {},
   "source": [
    "OPERADORES Y TIPO DE OPERADORES"
   ]
  },
  {
   "cell_type": "code",
   "execution_count": 9,
   "id": "7fa839a8-8ad7-4703-a162-afe019e99df1",
   "metadata": {},
   "outputs": [],
   "source": [
    "# Aritméticos\n",
    "# + - * /\n",
    "# // división redondeo hacia abajo\n",
    "# ** exponente"
   ]
  },
  {
   "cell_type": "code",
   "execution_count": 19,
   "id": "ccc9a286-2450-41be-8c4a-864c5bc9c193",
   "metadata": {},
   "outputs": [
    {
     "name": "stdout",
     "output_type": "stream",
     "text": [
      "3\n"
     ]
    }
   ],
   "source": [
    "div = 10 // 3\n",
    "print(div)"
   ]
  },
  {
   "cell_type": "code",
   "execution_count": 17,
   "id": "4a8073e7-f504-400c-a8cb-f3fcd0a49c0e",
   "metadata": {},
   "outputs": [
    {
     "name": "stdout",
     "output_type": "stream",
     "text": [
      "8\n"
     ]
    }
   ],
   "source": [
    "exp = 2 ** 3\n",
    "print(exp)"
   ]
  },
  {
   "cell_type": "code",
   "execution_count": 21,
   "id": "4cf4154a-b4de-4c96-b906-d83e2ce2a13d",
   "metadata": {},
   "outputs": [],
   "source": [
    "# Relacionales\n",
    "# == != < > <= >="
   ]
  },
  {
   "cell_type": "code",
   "execution_count": 6,
   "id": "2ebc4292-e1c0-4d19-b9cc-59924746cb0c",
   "metadata": {},
   "outputs": [
    {
     "name": "stdout",
     "output_type": "stream",
     "text": [
      "False\n"
     ]
    }
   ],
   "source": [
    "var1 = \"Hola\"\n",
    "var2 = \"hola\"\n",
    "print(var1 == var2)"
   ]
  },
  {
   "cell_type": "code",
   "execution_count": 12,
   "id": "fde536da-03c9-4fb2-a164-55a824718b73",
   "metadata": {},
   "outputs": [
    {
     "name": "stdout",
     "output_type": "stream",
     "text": [
      "True\n"
     ]
    }
   ],
   "source": [
    "num1 =200\n",
    "num2 = 500\n",
    "print(num1 < num2)"
   ]
  },
  {
   "cell_type": "code",
   "execution_count": 18,
   "id": "07fb9663-4a3b-4e8b-ad62-725a436f2f78",
   "metadata": {},
   "outputs": [],
   "source": [
    "# De Asignación\n",
    "# = += -= *= /=\n",
    "# **= //* \n",
    "# %= (el residuo despues de dividir)"
   ]
  },
  {
   "cell_type": "code",
   "execution_count": 38,
   "id": "78cb570e-cfcc-4c34-aede-258e234df4d7",
   "metadata": {},
   "outputs": [
    {
     "name": "stdout",
     "output_type": "stream",
     "text": [
      "50  antes de la asignación\n",
      "78886090522101180541172856528278622967320643510902300477027893066406250000000000000000000000000000000000000000000000000000000000000000000000000000000000000000000000000000  después de la asignación\n"
     ]
    }
   ],
   "source": [
    "num1 = 50\n",
    "num2 = 100\n",
    "print(num1, \" antes de la asignación\")\n",
    "num1 **= num2\n",
    "print(num1, \" después de la asignación\")"
   ]
  },
  {
   "cell_type": "code",
   "execution_count": 42,
   "id": "fc59a5a1-9113-4a2f-988b-803ef7091bc1",
   "metadata": {},
   "outputs": [],
   "source": [
    "# Lógicos\n",
    "# AND, OR, NOT"
   ]
  },
  {
   "cell_type": "code",
   "execution_count": 52,
   "id": "b3e4bc6e-b16d-4f51-bc78-91aed461a5a4",
   "metadata": {},
   "outputs": [
    {
     "name": "stdout",
     "output_type": "stream",
     "text": [
      "True\n"
     ]
    }
   ],
   "source": [
    "num1 = 25\n",
    "num2 = 50\n",
    "print(num1 > num2 or num1 != num2)"
   ]
  },
  {
   "cell_type": "code",
   "execution_count": 54,
   "id": "d9d1b022-cd39-461a-b413-81f832ad85ea",
   "metadata": {},
   "outputs": [
    {
     "name": "stdout",
     "output_type": "stream",
     "text": [
      "False\n"
     ]
    }
   ],
   "source": [
    "num1 = 25\n",
    "num2 = 50\n",
    "print( not num1 < num2) # Lo opuesto"
   ]
  },
  {
   "cell_type": "code",
   "execution_count": 58,
   "id": "06caf450-dc71-4d0f-8ce3-060a7ad1df5a",
   "metadata": {},
   "outputs": [],
   "source": [
    "# De Afiliación\n",
    "# Para validar valores de listas, cadenas y tuplas, si una variable está presente en una secuencia\n",
    "# Retornan un bool\n",
    "# IN, NOT IN"
   ]
  },
  {
   "cell_type": "code",
   "execution_count": 60,
   "id": "917f0728-738d-4f24-8ce1-9835b3e2f8c9",
   "metadata": {},
   "outputs": [
    {
     "name": "stdout",
     "output_type": "stream",
     "text": [
      "True\n"
     ]
    }
   ],
   "source": [
    "string = \"Backend\"\n",
    "print('a' in string)"
   ]
  },
  {
   "cell_type": "code",
   "execution_count": 62,
   "id": "bb21aaaf-8982-4c97-a40c-9ad76054d864",
   "metadata": {},
   "outputs": [
    {
     "name": "stdout",
     "output_type": "stream",
     "text": [
      "False\n"
     ]
    }
   ],
   "source": [
    "myset = {1, 2.0, \"Tres\", False}\n",
    "print('Tres' not in myset)"
   ]
  },
  {
   "cell_type": "code",
   "execution_count": 64,
   "id": "e28723e6-b2a2-4c2b-9df2-939c52d2b224",
   "metadata": {},
   "outputs": [],
   "source": [
    "# De Identidad\n",
    "# Para comparar la ubicación en memoria de dos objetos, si dos objetos comparten el mismo espacio o no\n",
    "# Retornan un bool\n",
    "# IS, IS NOT"
   ]
  },
  {
   "cell_type": "code",
   "execution_count": 66,
   "id": "53ffd9a0-77cf-4480-b33e-f7669a07c61c",
   "metadata": {},
   "outputs": [
    {
     "name": "stdout",
     "output_type": "stream",
     "text": [
      "False\n"
     ]
    }
   ],
   "source": [
    "n1 = 11\n",
    "n2 = 15\n",
    "print(n1 is n2)"
   ]
  },
  {
   "cell_type": "code",
   "execution_count": 74,
   "id": "082c3644-15f6-4d40-ba98-4657a348d8cf",
   "metadata": {},
   "outputs": [
    {
     "name": "stdout",
     "output_type": "stream",
     "text": [
      "True\n"
     ]
    }
   ],
   "source": [
    "st1 = \"Hola\"\n",
    "st2 = \"Hola\"\n",
    "print(st1 is st2)"
   ]
  },
  {
   "cell_type": "markdown",
   "id": "2484818a-513d-4586-b339-842bee1b3b1f",
   "metadata": {},
   "source": [
    "CONVERSIÓN DE TIPOS"
   ]
  },
  {
   "cell_type": "code",
   "execution_count": 81,
   "id": "ca1d8b96-e0f3-48c9-be55-1e2761e315e8",
   "metadata": {},
   "outputs": [],
   "source": [
    "# DE (float, bool, string) A INT *de un string\"float\" a INT no, debe pasar por float primero*"
   ]
  },
  {
   "cell_type": "code",
   "execution_count": 83,
   "id": "7d0f8d86-a944-4a3d-8c96-8bb42530a681",
   "metadata": {},
   "outputs": [],
   "source": [
    "# DE (int, bool, string y string\"float\") A FLOAT"
   ]
  },
  {
   "cell_type": "code",
   "execution_count": 85,
   "id": "162cbbfd-cd3b-445b-a61c-c0a792fb3c67",
   "metadata": {},
   "outputs": [],
   "source": [
    "# DE (int, float, bool, string y string\"float\" y string\"complex\") a COMPLEX"
   ]
  },
  {
   "cell_type": "code",
   "execution_count": 87,
   "id": "399d31dd-25bf-4917-9ad0-506674bbcc7b",
   "metadata": {},
   "outputs": [
    {
     "data": {
      "text/plain": [
       "(1+0j)"
      ]
     },
     "execution_count": 87,
     "metadata": {},
     "output_type": "execute_result"
    }
   ],
   "source": [
    "complex(True)"
   ]
  },
  {
   "cell_type": "code",
   "execution_count": 89,
   "id": "608be53a-759b-427d-940f-9cd28f26cd6f",
   "metadata": {},
   "outputs": [
    {
     "data": {
      "text/plain": [
       "10j"
      ]
     },
     "execution_count": 89,
     "metadata": {},
     "output_type": "execute_result"
    }
   ],
   "source": [
    "complex(\"10j\")"
   ]
  },
  {
   "cell_type": "code",
   "execution_count": 91,
   "id": "879a46c4-7f86-4fa3-b052-42421198415f",
   "metadata": {},
   "outputs": [],
   "source": [
    "# DE (int, float, complex, string) A BOOL "
   ]
  },
  {
   "cell_type": "code",
   "execution_count": 93,
   "id": "221cccd5-125e-4632-b1da-b732985de965",
   "metadata": {},
   "outputs": [
    {
     "data": {
      "text/plain": [
       "False"
      ]
     },
     "execution_count": 93,
     "metadata": {},
     "output_type": "execute_result"
    }
   ],
   "source": [
    "bool(\"\")"
   ]
  },
  {
   "cell_type": "code",
   "execution_count": 95,
   "id": "acb85feb-86b2-493c-89d0-09239df50127",
   "metadata": {},
   "outputs": [
    {
     "data": {
      "text/plain": [
       "True"
      ]
     },
     "execution_count": 95,
     "metadata": {},
     "output_type": "execute_result"
    }
   ],
   "source": [
    "bool(10+1j)"
   ]
  },
  {
   "cell_type": "code",
   "execution_count": 101,
   "id": "5abd6ada-55f9-4750-a7cc-5458acb81c55",
   "metadata": {},
   "outputs": [],
   "source": [
    "# DE (int, float, complex, bool) a STRING"
   ]
  },
  {
   "cell_type": "code",
   "execution_count": 103,
   "id": "a643ccb8-c20d-436c-8f76-ff163db8d9b2",
   "metadata": {},
   "outputs": [
    {
     "data": {
      "text/plain": [
       "'10'"
      ]
     },
     "execution_count": 103,
     "metadata": {},
     "output_type": "execute_result"
    }
   ],
   "source": [
    "str(10)"
   ]
  },
  {
   "cell_type": "markdown",
   "id": "52a3cc67-31c0-4989-ab94-1bafe41aac13",
   "metadata": {},
   "source": [
    "FUNCIONES BÁSICAS"
   ]
  },
  {
   "cell_type": "code",
   "execution_count": 110,
   "id": "5b5b4aee-d5a9-4ae1-a173-f6e1ca585195",
   "metadata": {},
   "outputs": [
    {
     "name": "stdout",
     "output_type": "stream",
     "text": [
      "60\n"
     ]
    }
   ],
   "source": [
    "# trunc()\n",
    "# Se queda con la parte entera de cualquier número\n",
    "v1 =60.006728\n",
    "\n",
    "from math import trunc\n",
    "print(trunc(v1))"
   ]
  },
  {
   "cell_type": "code",
   "execution_count": 114,
   "id": "2c863342-7120-463e-8aa5-0411fb4f000b",
   "metadata": {},
   "outputs": [
    {
     "name": "stdout",
     "output_type": "stream",
     "text": [
      "60\n",
      "71\n"
     ]
    }
   ],
   "source": [
    "# round()\n",
    "# Redondea cualquier número por la mitad hacia arriba o hacia abajo\n",
    "v1 = 60.006728\n",
    "v2 = 70.51\n",
    "print(round(v1))\n",
    "print(round(v2))"
   ]
  },
  {
   "cell_type": "code",
   "execution_count": 124,
   "id": "cbcfb684-3868-4800-8a40-95cf12352bab",
   "metadata": {},
   "outputs": [
    {
     "name": "stdout",
     "output_type": "stream",
     "text": [
      "61\n",
      "71\n"
     ]
    }
   ],
   "source": [
    "# ceil()\n",
    "# Redondea cualquier número hacia arriba\n",
    "v1 = 60.006728\n",
    "v2 = 70.51\n",
    "\n",
    "from math import ceil\n",
    "print(ceil(v1))\n",
    "print(ceil(v2))"
   ]
  },
  {
   "cell_type": "code",
   "execution_count": 122,
   "id": "2797b2bf-093f-4b4e-81cd-e3a8e18e0d91",
   "metadata": {},
   "outputs": [
    {
     "name": "stdout",
     "output_type": "stream",
     "text": [
      "60\n",
      "70\n"
     ]
    }
   ],
   "source": [
    "# floor()\n",
    "# Redondea cualquier número hacia abajo\n",
    "v1 = 60.006728\n",
    "v2 = 70.51\n",
    "\n",
    "from math import floor\n",
    "print(floor(v1))\n",
    "print(floor(v2))"
   ]
  },
  {
   "cell_type": "code",
   "execution_count": 128,
   "id": "4a5cf1b3-7b9d-49ce-8ae9-76f2ecb131ae",
   "metadata": {},
   "outputs": [
    {
     "name": "stdout",
     "output_type": "stream",
     "text": [
      "60.007\n",
      "70.5\n"
     ]
    }
   ],
   "source": [
    "# %.xf\n",
    "# Escoger el numero de decimales a utilizar\n",
    "v1 = 60.006728\n",
    "v2 = 70.51\n",
    "print('%.3f' % v1)\n",
    "print('%.1f' % v2)"
   ]
  },
  {
   "cell_type": "code",
   "execution_count": 132,
   "id": "9749a1df-aba1-4491-a1a3-ec3bda22a9bd",
   "metadata": {},
   "outputs": [
    {
     "name": "stdout",
     "output_type": "stream",
     "text": [
      "60.007\n",
      "70.5\n"
     ]
    }
   ],
   "source": [
    "# format()\n",
    "# Escoger el numero de decimales a utilizar\n",
    "v1 = 60.006728\n",
    "v2 = 70.51\n",
    "print('{:.3f}'.format(v1))\n",
    "print('{:.1f}'.format(v2))"
   ]
  }
 ],
 "metadata": {
  "kernelspec": {
   "display_name": "Python [conda env:base] *",
   "language": "python",
   "name": "conda-base-py"
  },
  "language_info": {
   "codemirror_mode": {
    "name": "ipython",
    "version": 3
   },
   "file_extension": ".py",
   "mimetype": "text/x-python",
   "name": "python",
   "nbconvert_exporter": "python",
   "pygments_lexer": "ipython3",
   "version": "3.12.7"
  }
 },
 "nbformat": 4,
 "nbformat_minor": 5
}
