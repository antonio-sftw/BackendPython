{
 "cells": [
  {
   "cell_type": "markdown",
   "id": "1092fa7c-07d4-45c8-a27c-6dccff099ee1",
   "metadata": {},
   "source": [
    "OPERADORES Y TIPO DE OPERADORES"
   ]
  },
  {
   "cell_type": "code",
   "execution_count": 9,
   "id": "7fa839a8-8ad7-4703-a162-afe019e99df1",
   "metadata": {},
   "outputs": [],
   "source": [
    "# Aritméticos\n",
    "# + - * /\n",
    "# // división redondeo hacia abajo\n",
    "# ** exponente"
   ]
  },
  {
   "cell_type": "code",
   "execution_count": 19,
   "id": "ccc9a286-2450-41be-8c4a-864c5bc9c193",
   "metadata": {},
   "outputs": [
    {
     "name": "stdout",
     "output_type": "stream",
     "text": [
      "3\n"
     ]
    }
   ],
   "source": [
    "div = 10 // 3\n",
    "print(div)"
   ]
  },
  {
   "cell_type": "code",
   "execution_count": 17,
   "id": "4a8073e7-f504-400c-a8cb-f3fcd0a49c0e",
   "metadata": {},
   "outputs": [
    {
     "name": "stdout",
     "output_type": "stream",
     "text": [
      "8\n"
     ]
    }
   ],
   "source": [
    "exp = 2 ** 3\n",
    "print(exp)"
   ]
  },
  {
   "cell_type": "code",
   "execution_count": 21,
   "id": "4cf4154a-b4de-4c96-b906-d83e2ce2a13d",
   "metadata": {},
   "outputs": [],
   "source": [
    "# Relacionales\n",
    "# == != < > <= >="
   ]
  },
  {
   "cell_type": "code",
   "execution_count": 20,
   "id": "2ebc4292-e1c0-4d19-b9cc-59924746cb0c",
   "metadata": {},
   "outputs": [
    {
     "name": "stdout",
     "output_type": "stream",
     "text": [
      "El resultado de  Hola  ==  hola  es:  False\n"
     ]
    }
   ],
   "source": [
    "num1 = \"Hola\"\n",
    "num2 = \"hola\"\n",
    "print(\"El resultado de \", num1,\" == \", num2,\" es: \", num1 == num2)"
   ]
  },
  {
   "cell_type": "code",
   "execution_count": 22,
   "id": "b311095c-457e-4f4f-9bea-1685a09e8850",
   "metadata": {},
   "outputs": [],
   "source": [
    "# De Asignacion\n",
    "# Sumar, restar, multiplicar, dividir y asignar\n",
    "# = += -= *= /= //= %= (residuo de una division)"
   ]
  },
  {
   "cell_type": "code",
   "execution_count": 46,
   "id": "85355bfc-a303-432e-9c19-452f5b6d7683",
   "metadata": {},
   "outputs": [
    {
     "name": "stdout",
     "output_type": "stream",
     "text": [
      "21\n",
      "794280046581\n"
     ]
    }
   ],
   "source": [
    "num1 = 21\n",
    "num2 = 9\n",
    "print(num1)\n",
    "num1 **= num2\n",
    "print(num1)"
   ]
  },
  {
   "cell_type": "code",
   "execution_count": null,
   "id": "8c6f78d3-843c-422f-b99d-f75943353eb3",
   "metadata": {},
   "outputs": [],
   "source": [
    "# Lógicos\n",
    "# and or not"
   ]
  }
 ],
 "metadata": {
  "kernelspec": {
   "display_name": "Python [conda env:base] *",
   "language": "python",
   "name": "conda-base-py"
  },
  "language_info": {
   "codemirror_mode": {
    "name": "ipython",
    "version": 3
   },
   "file_extension": ".py",
   "mimetype": "text/x-python",
   "name": "python",
   "nbconvert_exporter": "python",
   "pygments_lexer": "ipython3",
   "version": "3.12.7"
  }
 },
 "nbformat": 4,
 "nbformat_minor": 5
}
